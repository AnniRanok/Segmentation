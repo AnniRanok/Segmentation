{
 "cells": [
  {
   "cell_type": "code",
   "execution_count": null,
   "id": "bdf9e361-2d3c-43c7-97cf-b2be24c86c4b",
   "metadata": {},
   "outputs": [],
   "source": [
    "import numpy as np\n",
    "import cv2\n",
    "import json"
   ]
  },
  {
   "cell_type": "code",
   "execution_count": null,
   "id": "addc751e-03e1-4a05-af4e-64360a7a3a22",
   "metadata": {},
   "outputs": [],
   "source": [
    "f = open(\"mask, json\", \"r\")\n",
    "data = json.load(f)\n",
    "print(type(data))"
   ]
  },
  {
   "cell_type": "code",
   "execution_count": null,
   "id": "4cbd2980-77da-4acf-8a95-6ce332c776c2",
   "metadata": {},
   "outputs": [],
   "source": [
    "data = data[\"_via_img_metadata]"
   ]
  },
  {
   "cell_type": "code",
   "execution_count": null,
   "id": "8317ce35-79ab-4840-b48f-d58ac4ed9b12",
   "metadata": {},
   "outputs": [],
   "source": [
    "#Path\n",
    "img_dir = \"../Images\"    \n",
    "mask_dir = \"mask\""
   ]
  },
  {
   "cell_type": "code",
   "execution_count": null,
   "id": "191ba470-4a01-48c0-b705-ad86c90c1816",
   "metadata": {},
   "outputs": [],
   "source": [
    "for key, value in data.items():\n",
    "    print (value)\n",
    "    print (\" \")"
   ]
  },
  {
   "cell_type": "code",
   "execution_count": null,
   "id": "392ad3f8-d8ac-4edf-a0c9-2405b9874012",
   "metadata": {},
   "outputs": [],
   "source": [
    "for key, value in data.items():\n",
    "    filename = value[\"filename\"]\n",
    "    img_path = f\"{img_dir}/{filename}\"\n",
    "    img = cv2.imread(img_path, CV2.IMREAD_COLOR)\n",
    "    h, w, _ = img.shape()\n",
    "    mask = np.zeros((h,w))\n",
    "    regions = value [\"regions\"]\n",
    "    for region in regions:\n",
    "        shape_attributes = region[\"shape_attributes\"]\n",
    "        x_points = shape_attributes[\"all_points_x\"]\n",
    "        y_points = shape_attributes[\"all_points_y\"]\n",
    "\n",
    "        contours = []\n",
    "        for x,y in zip(x_points, y_points):\n",
    "            contours.append((x,y))\n",
    "        contours = np.array(contours)\n",
    "\n",
    "        cv2.drawContours(mask, [contours], -1, 255, -1)\n",
    "        \n",
    "    cv2.imwrite (f\"{mask_dir}/{filename}, mask\")"
   ]
  },
  {
   "cell_type": "code",
   "execution_count": null,
   "id": "48e8460e-570d-4f53-ad61-3d19b4e8b24a",
   "metadata": {},
   "outputs": [],
   "source": [
    "#RLE (Run-Length Encoding): A data compression method based on encoding sequences of identical values.\n",
    "def to_rle(bits):\n",
    "    rle = []\n",
    "    pos = 0         #position (index) in the bit array, initially set to 0.\n",
    "    \"\"\"grouping of adjacent values ​​in bits. For example, if bits has the value [0, 0, 1, 1, 1, 0],\n",
    "       then there will be two groups: one of 0 and one of 1.\"\"\"\n",
    "    for bit, group in itertools.groupby(bits):    \n",
    "        group_list = list(group)\n",
    "        if bit:\n",
    "            rle.extend([pos, sum(group_list)])\n",
    "        pos += len(group_list)\n",
    "    return rle"
   ]
  }
 ],
 "metadata": {
  "kernelspec": {
   "display_name": "Python 3 (ipykernel)",
   "language": "python",
   "name": "python3"
  },
  "language_info": {
   "codemirror_mode": {
    "name": "ipython",
    "version": 3
   },
   "file_extension": ".py",
   "mimetype": "text/x-python",
   "name": "python",
   "nbconvert_exporter": "python",
   "pygments_lexer": "ipython3",
   "version": "3.12.4"
  }
 },
 "nbformat": 4,
 "nbformat_minor": 5
}
